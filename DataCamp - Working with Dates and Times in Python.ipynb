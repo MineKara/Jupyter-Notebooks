{
 "cells": [
  {
   "cell_type": "markdown",
   "id": "2610bbc5",
   "metadata": {},
   "source": [
    "# 1) Dates and Calendars"
   ]
  },
  {
   "cell_type": "code",
   "execution_count": 7,
   "id": "7e8d8344",
   "metadata": {},
   "outputs": [
    {
     "data": {
      "text/plain": [
       "'C:\\\\Users\\\\Mine Kara\\\\Google Drive\\\\Jupyter Notebooks\\\\Files\\\\Modules'"
      ]
     },
     "execution_count": 7,
     "metadata": {},
     "output_type": "execute_result"
    }
   ],
   "source": [
    "import os\n",
    "\n",
    "os.chdir(r\"C:\\Users\\Mine Kara\\Google Drive\\Jupyter Notebooks\\Files\\Modules\")\n",
    "os.getcwd()"
   ]
  },
  {
   "cell_type": "code",
   "execution_count": 8,
   "id": "99081aea",
   "metadata": {},
   "outputs": [
    {
     "name": "stdout",
     "output_type": "stream",
     "text": [
      "0\n"
     ]
    }
   ],
   "source": [
    "# Import date from datetime\n",
    "from datetime import date\n",
    "\n",
    "# Create a date object\n",
    "hurricane_andrew = date(1992, 8, 24)\n",
    "\n",
    "# Which day of the week is the date?\n",
    "print(hurricane_andrew.weekday())"
   ]
  },
  {
   "cell_type": "code",
   "execution_count": 9,
   "id": "3554f14b",
   "metadata": {
    "scrolled": false
   },
   "outputs": [],
   "source": [
    "from py_modules import florida_hurricane_dates"
   ]
  },
  {
   "cell_type": "code",
   "execution_count": 11,
   "id": "ce92c304",
   "metadata": {},
   "outputs": [
    {
     "data": {
      "text/plain": [
       "[datetime.date(1950, 8, 31),\n",
       " datetime.date(1950, 9, 5),\n",
       " datetime.date(1950, 10, 18),\n",
       " datetime.date(1950, 10, 21),\n",
       " datetime.date(1951, 5, 18)]"
      ]
     },
     "execution_count": 11,
     "metadata": {},
     "output_type": "execute_result"
    }
   ],
   "source": [
    "florida_hurricane_dates[:5]"
   ]
  },
  {
   "cell_type": "code",
   "execution_count": 10,
   "id": "c08cbcb3",
   "metadata": {},
   "outputs": [
    {
     "name": "stdout",
     "output_type": "stream",
     "text": [
      "10\n"
     ]
    }
   ],
   "source": [
    "# Counter for how many before June 1\n",
    "early_hurricanes = 0\n",
    "\n",
    "# We loop over the dates\n",
    "for hurricane in florida_hurricane_dates:\n",
    "  # Check if the month is before June (month number 6)\n",
    "  if hurricane.month < 6:\n",
    "    early_hurricanes = early_hurricanes + 1\n",
    "    \n",
    "print(early_hurricanes)"
   ]
  },
  {
   "cell_type": "code",
   "execution_count": null,
   "id": "ad2012f9",
   "metadata": {},
   "outputs": [],
   "source": []
  }
 ],
 "metadata": {
  "kernelspec": {
   "display_name": "Python 3",
   "language": "python",
   "name": "python3"
  },
  "language_info": {
   "codemirror_mode": {
    "name": "ipython",
    "version": 3
   },
   "file_extension": ".py",
   "mimetype": "text/x-python",
   "name": "python",
   "nbconvert_exporter": "python",
   "pygments_lexer": "ipython3",
   "version": "3.8.8"
  }
 },
 "nbformat": 4,
 "nbformat_minor": 5
}
